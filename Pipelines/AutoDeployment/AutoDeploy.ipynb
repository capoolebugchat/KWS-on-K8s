{
 "cells": [
  {
   "cell_type": "code",
   "execution_count": 5,
   "metadata": {},
   "outputs": [],
   "source": [
    "import kfp\n",
    "from kfp.v2.dsl import (\n",
    "    Input, InputPath, \n",
    "    Output, OutputPath, component\n",
    ")\n",
    "import kfp.dsl as dsl\n",
    "from kfp import components\n",
    "from kfp import compiler\n",
    "\n",
    "import kserve\n",
    "from kserve import KServeClient"
   ]
  },
  {
   "cell_type": "code",
   "execution_count": null,
   "metadata": {},
   "outputs": [],
   "source": [
    "# pipeline to do several things:\n",
    "### delete old deployment base on namespace, service name\n",
    "### deployment of new model+transformer from Dockerhub and model registry"
   ]
  },
  {
   "cell_type": "code",
   "execution_count": null,
   "metadata": {},
   "outputs": [],
   "source": [
    "@component\n",
    "def delete_old_deployment(\n",
    "    service_name: str,\n",
    "    namespace: str\n",
    "):\n",
    "    # register client from this container\n",
    "    client = KServeClient()\n",
    "\n",
    "    pass"
   ]
  },
  {
   "cell_type": "code",
   "execution_count": 11,
   "metadata": {},
   "outputs": [
    {
     "ename": "SyntaxError",
     "evalue": "invalid syntax (4224152141.py, line 18)",
     "output_type": "error",
     "traceback": [
      "\u001b[0;36m  Input \u001b[0;32mIn [11]\u001b[0;36m\u001b[0m\n\u001b[0;31m    framework = \"tensorflow\"\u001b[0m\n\u001b[0m    ^\u001b[0m\n\u001b[0;31mSyntaxError\u001b[0m\u001b[0;31m:\u001b[0m invalid syntax\n"
     ]
    }
   ],
   "source": [
    "# kfserving_op = components.load_component_from_url('https://raw.githubusercontent.com/kubeflow/pipelines/master/components/kubeflow/kfserving/component.yaml')\n",
    "kserve_op = components.load_component_from_file('./serve_model.yaml')\n",
    "\n",
    "@dsl.pipeline(\n",
    "  name='KServe pipeline',\n",
    "  description='A pipeline for KServe.'\n",
    ")\n",
    "def kservePipeline(\n",
    "    action='apply',\n",
    "    model_uri = 'pvc://keyword-spotter-model-storage/v1/saved_model',\n",
    "    model_name='keyword-spotter',\n",
    "    namespace='kubeflow-user-example-com',\n",
    "):\n",
    "\n",
    "    kserve = kserve_op(action=action,\n",
    "                       model_name=model_name,\n",
    "                       namespace=namespace,\n",
    "                       framework = \"tensorflow\",\n",
    "                       model_uri = model_uri).set_image_pull_policy('Always')\n",
    "\n",
    "# Compile pipeline\n",
    "compiler.Compiler().compile(kservePipeline, 'serve_model_pipeline.yaml')"
   ]
  }
 ],
 "metadata": {
  "interpreter": {
   "hash": "7a192e72af163c78e5ecb2f39af3cac0b99b94b35df0ed122b563314cb768475"
  },
  "kernelspec": {
   "display_name": "Python 3.9.12 ('kws-dev-env')",
   "language": "python",
   "name": "python3"
  },
  "language_info": {
   "codemirror_mode": {
    "name": "ipython",
    "version": 3
   },
   "file_extension": ".py",
   "mimetype": "text/x-python",
   "name": "python",
   "nbconvert_exporter": "python",
   "pygments_lexer": "ipython3",
   "version": "3.9.12"
  },
  "orig_nbformat": 4
 },
 "nbformat": 4,
 "nbformat_minor": 2
}
