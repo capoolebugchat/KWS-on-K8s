{
 "cells": [
  {
   "cell_type": "code",
   "execution_count": 3,
   "metadata": {},
   "outputs": [
    {
     "ename": "AttributeError",
     "evalue": "'int' object has no attribute 'tolist'",
     "output_type": "error",
     "traceback": [
      "\u001b[0;31m---------------------------------------------------------------------------\u001b[0m",
      "\u001b[0;31mAttributeError\u001b[0m                            Traceback (most recent call last)",
      "\u001b[1;32m/home/lebugcat/Desktop/FTech/Projects/KeyWord-Spotting/Work.ipynb Cell 1'\u001b[0m in \u001b[0;36m<cell line: 1>\u001b[0;34m()\u001b[0m\n\u001b[0;32m----> <a href='vscode-notebook-cell:/home/lebugcat/Desktop/FTech/Projects/KeyWord-Spotting/Work.ipynb#ch0000000?line=0'>1</a>\u001b[0m inputs \u001b[39m=\u001b[39m [{\u001b[39m\"\u001b[39m\u001b[39mdata\u001b[39m\u001b[39m\"\u001b[39m: input_tensor\u001b[39m.\u001b[39mtolist()} \u001b[39mfor\u001b[39;00m input_tensor \u001b[39min\u001b[39;00m [\u001b[39m1\u001b[39m,\u001b[39m2\u001b[39m,\u001b[39m3\u001b[39m,\u001b[39m4\u001b[39m,\u001b[39m5\u001b[39m]]\n",
      "\u001b[1;32m/home/lebugcat/Desktop/FTech/Projects/KeyWord-Spotting/Work.ipynb Cell 1'\u001b[0m in \u001b[0;36m<listcomp>\u001b[0;34m(.0)\u001b[0m\n\u001b[0;32m----> <a href='vscode-notebook-cell:/home/lebugcat/Desktop/FTech/Projects/KeyWord-Spotting/Work.ipynb#ch0000000?line=0'>1</a>\u001b[0m inputs \u001b[39m=\u001b[39m [{\u001b[39m\"\u001b[39m\u001b[39mdata\u001b[39m\u001b[39m\"\u001b[39m: input_tensor\u001b[39m.\u001b[39;49mtolist()} \u001b[39mfor\u001b[39;00m input_tensor \u001b[39min\u001b[39;00m [\u001b[39m1\u001b[39m,\u001b[39m2\u001b[39m,\u001b[39m3\u001b[39m,\u001b[39m4\u001b[39m,\u001b[39m5\u001b[39m]]\n",
      "\u001b[0;31mAttributeError\u001b[0m: 'int' object has no attribute 'tolist'"
     ]
    }
   ],
   "source": [
    "inputs = [{\"data\": input_tensor} for input_tensor in [1,2,3,4,5]]\n"
   ]
  }
 ],
 "metadata": {
  "interpreter": {
   "hash": "7a192e72af163c78e5ecb2f39af3cac0b99b94b35df0ed122b563314cb768475"
  },
  "kernelspec": {
   "display_name": "Python 3.9.12 ('kws-dev-env')",
   "language": "python",
   "name": "python3"
  },
  "language_info": {
   "codemirror_mode": {
    "name": "ipython",
    "version": 3
   },
   "file_extension": ".py",
   "mimetype": "text/x-python",
   "name": "python",
   "nbconvert_exporter": "python",
   "pygments_lexer": "ipython3",
   "version": "3.9.12"
  },
  "orig_nbformat": 4
 },
 "nbformat": 4,
 "nbformat_minor": 2
}
